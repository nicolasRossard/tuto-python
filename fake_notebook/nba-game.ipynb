{
 "cells": [
  {
   "cell_type": "code",
   "execution_count": null,
   "id": "4f11a45b",
   "metadata": {
    "papermill": {
     "duration": 0.431826,
     "end_time": "2024-01-25T00:25:49.572754",
     "exception": false,
     "start_time": "2024-01-25T00:25:49.140928",
     "status": "completed"
    },
    "tags": []
   },
   "outputs": [],
   "source": [
    "# This Python 3 environment comes with many helpful analytics libraries installed\n",
    "# It is defined by the kaggle/python Docker image: https://github.com/kaggle/docker-python\n",
    "# For example, here's several helpful packages to load\n",
    "\n",
    "import numpy as np # linear algebra\n",
    "import pandas as pd # data processing, CSV file I/O (e.g. pd.read_csv)\n",
    "\n",
    "# Input data files are available in the read-only \"../input/\" directory\n",
    "# For example, running this (by clicking run or pressing Shift+Enter) will list all files under the input directory\n",
    "\n",
    "import os\n",
    "for dirname, _, filenames in os.walk('/.kaggle/input'):\n",
    "    for filename in filenames:\n",
    "        print(os.path.join(dirname, filename))"
   ]
  },
  {
   "cell_type": "code",
   "execution_count": null,
   "id": "8489854f",
   "metadata": {
    "papermill": {
     "duration": 0.022996,
     "end_time": "2024-01-25T00:25:49.608365",
     "exception": false,
     "start_time": "2024-01-25T00:25:49.585369",
     "status": "completed"
    },
    "tags": []
   },
   "outputs": [],
   "source": [
    "import pandas as pd\n",
    "import numpy as np"
   ]
  },
  {
   "cell_type": "markdown",
   "id": "cbf5dc5c",
   "metadata": {
    "papermill": {
     "duration": 0.012248,
     "end_time": "2024-01-25T00:25:49.633070",
     "exception": false,
     "start_time": "2024-01-25T00:25:49.620822",
     "status": "completed"
    },
    "tags": []
   },
   "source": [
    "## Preguntas objetivo\n",
    "- ¿Cómo se han ganado más partidos, estando en casa o de visitante?\n",
    "- ¿Qué equipos han hecho la mayor cantidad de puntos, tanto en casa como visitante?\n",
    "- ¿Cuántos partidos han ganado los distintos equipos estando en casa y de visitante?\n",
    "- ¿Cómo se ha comportado los puntos anotados a lo largo de los años?\n",
    "- ¿Contra cuáles equipos han ganado más estando en casa y visitante?"
   ]
  },
  {
   "cell_type": "code",
   "execution_count": null,
   "id": "37cee200",
   "metadata": {
    "papermill": {
     "duration": 0.223423,
     "end_time": "2024-01-25T00:25:49.869098",
     "exception": false,
     "start_time": "2024-01-25T00:25:49.645675",
     "status": "completed"
    },
    "tags": []
   },
   "outputs": [],
   "source": [
    "games = pd.read_csv(\"./kaggle/input/nba-games/games.csv\")\n",
    "games.head()"
   ]
  },
  {
   "cell_type": "code",
   "execution_count": null,
   "id": "3ecc6c94",
   "metadata": {
    "papermill": {
     "duration": 0.045983,
     "end_time": "2024-01-25T00:25:49.928035",
     "exception": false,
     "start_time": "2024-01-25T00:25:49.882052",
     "status": "completed"
    },
    "tags": []
   },
   "outputs": [],
   "source": [
    "games.info()"
   ]
  },
  {
   "cell_type": "code",
   "execution_count": null,
   "id": "06306afb",
   "metadata": {
    "papermill": {
     "duration": 0.0335,
     "end_time": "2024-01-25T00:25:49.975109",
     "exception": false,
     "start_time": "2024-01-25T00:25:49.941609",
     "status": "completed"
    },
    "tags": []
   },
   "outputs": [],
   "source": [
    "games = games[[\"GAME_DATE_EST\", \"GAME_ID\", \"GAME_STATUS_TEXT\", \"TEAM_ID_home\",\n",
    "               \"TEAM_ID_away\",\"PTS_home\", \"PTS_away\", \"HOME_TEAM_WINS\"]]\n",
    "games.head()\n"
   ]
  },
  {
   "cell_type": "code",
   "execution_count": null,
   "id": "7833e318",
   "metadata": {
    "papermill": {
     "duration": 0.035523,
     "end_time": "2024-01-25T00:25:50.024089",
     "exception": false,
     "start_time": "2024-01-25T00:25:49.988566",
     "status": "completed"
    },
    "tags": []
   },
   "outputs": [],
   "source": [
    "games['GAME_DATE_EST'] = pd.to_datetime(games['GAME_DATE_EST'])"
   ]
  },
  {
   "cell_type": "code",
   "execution_count": null,
   "id": "80f7c0bb",
   "metadata": {
    "papermill": {
     "duration": 0.03222,
     "end_time": "2024-01-25T00:25:50.069904",
     "exception": false,
     "start_time": "2024-01-25T00:25:50.037684",
     "status": "completed"
    },
    "tags": []
   },
   "outputs": [],
   "source": [
    "games.info()"
   ]
  },
  {
   "cell_type": "code",
   "execution_count": null,
   "id": "ddcd1e92",
   "metadata": {
    "papermill": {
     "duration": 0.034929,
     "end_time": "2024-01-25T00:25:50.119744",
     "exception": false,
     "start_time": "2024-01-25T00:25:50.084815",
     "status": "completed"
    },
    "scrolled": true,
    "tags": []
   },
   "outputs": [],
   "source": [
    "games[\"Year\"] = games[\"GAME_DATE_EST\"].dt.year\n",
    "games.head()"
   ]
  },
  {
   "cell_type": "code",
   "execution_count": null,
   "id": "6e87a259",
   "metadata": {
    "papermill": {
     "duration": 0.039041,
     "end_time": "2024-01-25T00:25:50.171870",
     "exception": false,
     "start_time": "2024-01-25T00:25:50.132829",
     "status": "completed"
    },
    "scrolled": true,
    "tags": []
   },
   "outputs": [],
   "source": [
    "# Cargar el conjunto de teams\n",
    "teams = pd.read_csv(\"./kaggle/input/nba-games/teams.csv\")\n",
    "teams.head()"
   ]
  },
  {
   "cell_type": "code",
   "execution_count": null,
   "id": "d9dffdf9",
   "metadata": {
    "papermill": {
     "duration": 0.028013,
     "end_time": "2024-01-25T00:25:50.213269",
     "exception": false,
     "start_time": "2024-01-25T00:25:50.185256",
     "status": "completed"
    },
    "tags": []
   },
   "outputs": [],
   "source": [
    "teams = teams[[\"TEAM_ID\", \"CITY\", \"NICKNAME\"]]\n",
    "teams.head()"
   ]
  },
  {
   "cell_type": "code",
   "execution_count": null,
   "id": "d0b02cf0",
   "metadata": {
    "papermill": {
     "duration": 0.028694,
     "end_time": "2024-01-25T00:25:50.256429",
     "exception": false,
     "start_time": "2024-01-25T00:25:50.227735",
     "status": "completed"
    },
    "tags": []
   },
   "outputs": [],
   "source": [
    "teams.info()"
   ]
  },
  {
   "cell_type": "code",
   "execution_count": null,
   "id": "036a82c4",
   "metadata": {
    "papermill": {
     "duration": 0.043713,
     "end_time": "2024-01-25T00:25:50.314417",
     "exception": false,
     "start_time": "2024-01-25T00:25:50.270704",
     "status": "completed"
    },
    "tags": []
   },
   "outputs": [],
   "source": [
    "home_games = pd.merge(games, teams, left_on = \"TEAM_ID_home\", right_on = \"TEAM_ID\", how = \"inner\")\n",
    "home_games.head()"
   ]
  },
  {
   "cell_type": "code",
   "execution_count": null,
   "id": "d7390d6a",
   "metadata": {
    "papermill": {
     "duration": 0.038175,
     "end_time": "2024-01-25T00:25:50.367251",
     "exception": false,
     "start_time": "2024-01-25T00:25:50.329076",
     "status": "completed"
    },
    "tags": []
   },
   "outputs": [],
   "source": [
    "home_games = home_games.rename(columns={\n",
    "    \"CITY\" : \"city_home\",\n",
    "    \"NICKNAME\" : \"nickname_home\"\n",
    "})\n",
    "home_games.head()"
   ]
  },
  {
   "cell_type": "code",
   "execution_count": null,
   "id": "1b2874bd",
   "metadata": {
    "papermill": {
     "duration": 0.047634,
     "end_time": "2024-01-25T00:25:50.429881",
     "exception": false,
     "start_time": "2024-01-25T00:25:50.382247",
     "status": "completed"
    },
    "tags": []
   },
   "outputs": [],
   "source": [
    "both_games = pd.merge(home_games, teams, left_on= \"TEAM_ID_away\", right_on=\"TEAM_ID\", how=\"inner\")\n",
    "both_games.head()"
   ]
  },
  {
   "cell_type": "code",
   "execution_count": null,
   "id": "39e1a31f",
   "metadata": {
    "papermill": {
     "duration": 0.045382,
     "end_time": "2024-01-25T00:25:50.492433",
     "exception": false,
     "start_time": "2024-01-25T00:25:50.447051",
     "status": "completed"
    },
    "tags": []
   },
   "outputs": [],
   "source": [
    "both_games = both_games.rename(columns={\n",
    "    'CITY': 'city_away',\n",
    "    'NICKNAME': 'nickname_away'\n",
    "})\n",
    "both_games.head()"
   ]
  },
  {
   "cell_type": "code",
   "execution_count": null,
   "id": "d61bb27e",
   "metadata": {
    "papermill": {
     "duration": 0.093335,
     "end_time": "2024-01-25T00:25:50.601560",
     "exception": false,
     "start_time": "2024-01-25T00:25:50.508225",
     "status": "completed"
    },
    "scrolled": true,
    "tags": []
   },
   "outputs": [],
   "source": [
    "both_teams = both_games.drop(columns=[\n",
    "    \"TEAM_ID_home\", \"TEAM_ID_away\", \"TEAM_ID_x\", \"TEAM_ID_y\"\n",
    "])\n",
    "both_teams.head()"
   ]
  },
  {
   "cell_type": "code",
   "execution_count": null,
   "id": "4c058381",
   "metadata": {
    "papermill": {
     "duration": 0.04215,
     "end_time": "2024-01-25T00:25:50.660215",
     "exception": false,
     "start_time": "2024-01-25T00:25:50.618065",
     "status": "completed"
    },
    "tags": []
   },
   "outputs": [],
   "source": [
    "games = both_games.copy()\n",
    "games.columns = games.columns.str.lower()\n",
    "games.head()"
   ]
  },
  {
   "cell_type": "code",
   "execution_count": null,
   "id": "0d391880",
   "metadata": {
    "papermill": {
     "duration": 0.040407,
     "end_time": "2024-01-25T00:25:50.717047",
     "exception": false,
     "start_time": "2024-01-25T00:25:50.676640",
     "status": "completed"
    },
    "tags": []
   },
   "outputs": [],
   "source": [
    "games[\"total_points\"] = games[\"pts_home\"] + games[\"pts_away\"]\n",
    "games.head()"
   ]
  },
  {
   "cell_type": "code",
   "execution_count": null,
   "id": "c96564a4",
   "metadata": {
    "papermill": {
     "duration": 0.0545,
     "end_time": "2024-01-25T00:25:50.788357",
     "exception": false,
     "start_time": "2024-01-25T00:25:50.733857",
     "status": "completed"
    },
    "tags": []
   },
   "outputs": [],
   "source": [
    "games.nlargest(n=5, columns=\"total_points\")"
   ]
  },
  {
   "cell_type": "code",
   "execution_count": null,
   "id": "62386312",
   "metadata": {
    "papermill": {
     "duration": 0.045757,
     "end_time": "2024-01-25T00:25:50.851149",
     "exception": false,
     "start_time": "2024-01-25T00:25:50.805392",
     "status": "completed"
    },
    "tags": []
   },
   "outputs": [],
   "source": [
    "games.nsmallest(n=5, columns=\"total_points\")"
   ]
  },
  {
   "cell_type": "markdown",
   "id": "de739dfc",
   "metadata": {
    "papermill": {
     "duration": 0.017192,
     "end_time": "2024-01-25T00:25:50.885755",
     "exception": false,
     "start_time": "2024-01-25T00:25:50.868563",
     "status": "completed"
    },
    "tags": []
   },
   "source": [
    "## Graficos"
   ]
  },
  {
   "cell_type": "code",
   "execution_count": null,
   "id": "0f0a306b",
   "metadata": {
    "papermill": {
     "duration": 1.314066,
     "end_time": "2024-01-25T00:25:52.217307",
     "exception": false,
     "start_time": "2024-01-25T00:25:50.903241",
     "status": "completed"
    },
    "tags": []
   },
   "outputs": [],
   "source": [
    "import matplotlib.pyplot as plt\n",
    "import seaborn as sns"
   ]
  },
  {
   "cell_type": "code",
   "execution_count": null,
   "id": "af7ae111",
   "metadata": {
    "papermill": {
     "duration": 0.029585,
     "end_time": "2024-01-25T00:25:52.265306",
     "exception": false,
     "start_time": "2024-01-25T00:25:52.235721",
     "status": "completed"
    },
    "scrolled": true,
    "tags": []
   },
   "outputs": [],
   "source": [
    "total = games[\"home_team_wins\"].value_counts()\n",
    "total"
   ]
  },
  {
   "cell_type": "code",
   "execution_count": null,
   "id": "f0c37648",
   "metadata": {
    "papermill": {
     "duration": 0.17626,
     "end_time": "2024-01-25T00:25:52.459168",
     "exception": false,
     "start_time": "2024-01-25T00:25:52.282908",
     "status": "completed"
    },
    "scrolled": true,
    "tags": []
   },
   "outputs": [],
   "source": [
    "plt.pie(total.values, labels=['Casa', 'Visitante'], autopct='%.0f%%')\n",
    "plt.show()"
   ]
  },
  {
   "cell_type": "code",
   "execution_count": null,
   "id": "69d2e45c",
   "metadata": {
    "papermill": {
     "duration": 0.713113,
     "end_time": "2024-01-25T00:25:53.211707",
     "exception": false,
     "start_time": "2024-01-25T00:25:52.498594",
     "status": "completed"
    },
    "scrolled": true,
    "tags": []
   },
   "outputs": [],
   "source": [
    "## cantidad de puntos por equipo cuando juegan en casa o de visita\n",
    "plt.figure(figsize=(20,6))\n",
    "home_wins = games[games[\"home_team_wins\"]== 1]\n",
    "result = home_wins.groupby(\"nickname_home\")['pts_home'].aggregate(np.mean).reset_index().sort_values('pts_home')\n",
    "\n",
    "ax = sns.barplot(data=home_wins, x=\"nickname_home\", y=\"pts_home\", order=result[\"nickname_home\"], errorbar=None)\n",
    "ax.bar_label(ax.containers[-1], fmt=\"%.0f\", label_type=\"center\", rotation=45)\n",
    "plt.xticks(rotation=75)\n",
    "plt.show()"
   ]
  },
  {
   "cell_type": "code",
   "execution_count": null,
   "id": "3e5a1755",
   "metadata": {
    "papermill": {
     "duration": 0.692138,
     "end_time": "2024-01-25T00:25:53.923978",
     "exception": false,
     "start_time": "2024-01-25T00:25:53.231840",
     "status": "completed"
    },
    "tags": []
   },
   "outputs": [],
   "source": [
    "plt.figure(figsize=(20,6))\n",
    "away_wins = games[games['home_team_wins'] == 0]\n",
    "result = away_wins.groupby('nickname_away')['pts_away'].aggregate(np.mean).reset_index().sort_values('pts_away')\n",
    "\n",
    "ax = sns.barplot(data=away_wins, x='nickname_away', y='pts_away', order=result['nickname_away'], errorbar=None)\n",
    "ax.bar_label(ax.containers[-1], fmt='%.0f', label_type='center', rotation=45)\n",
    "plt.xticks(rotation=75)\n",
    "plt.show()"
   ]
  },
  {
   "cell_type": "code",
   "execution_count": null,
   "id": "0985c9f5",
   "metadata": {
    "papermill": {
     "duration": 0.403421,
     "end_time": "2024-01-25T00:25:54.349022",
     "exception": false,
     "start_time": "2024-01-25T00:25:53.945601",
     "status": "completed"
    },
    "scrolled": true,
    "tags": []
   },
   "outputs": [],
   "source": [
    "sns.histplot(data=games, x=\"total_points\", bins=50)"
   ]
  },
  {
   "cell_type": "code",
   "execution_count": null,
   "id": "0617e9f8",
   "metadata": {
    "papermill": {
     "duration": 0.234019,
     "end_time": "2024-01-25T00:25:54.605819",
     "exception": false,
     "start_time": "2024-01-25T00:25:54.371800",
     "status": "completed"
    },
    "scrolled": true,
    "tags": []
   },
   "outputs": [],
   "source": [
    "sns.boxplot(x=games[\"total_points\"])"
   ]
  },
  {
   "cell_type": "code",
   "execution_count": null,
   "id": "55c90556",
   "metadata": {
    "papermill": {
     "duration": 0.702369,
     "end_time": "2024-01-25T00:25:55.332044",
     "exception": false,
     "start_time": "2024-01-25T00:25:54.629675",
     "status": "completed"
    },
    "scrolled": true,
    "tags": []
   },
   "outputs": [],
   "source": [
    "plt.figure(figsize=(20,6))\n",
    "\n",
    "result = home_wins[\"nickname_home\"].value_counts().sort_values()\n",
    "\n",
    "ax = sns. countplot(x= \"nickname_home\", data=home_wins, order=result.index)\n",
    "ax.bar_label(ax.containers[-1], label_type=\"center\",  rotation=45)\n",
    "\n",
    "plt.xticks(rotation=75)\n",
    "plt.show()"
   ]
  },
  {
   "cell_type": "code",
   "execution_count": null,
   "id": "8ab68ca8",
   "metadata": {
    "papermill": {
     "duration": 0.715954,
     "end_time": "2024-01-25T00:25:56.071845",
     "exception": false,
     "start_time": "2024-01-25T00:25:55.355891",
     "status": "completed"
    },
    "tags": []
   },
   "outputs": [],
   "source": [
    "plt.figure(figsize=(20,6))\n",
    "\n",
    "result = away_wins[\"nickname_away\"].value_counts().sort_values()\n",
    "\n",
    "ax = sns. countplot(x= \"nickname_away\", data=away_wins, order=result.index)\n",
    "ax.bar_label(ax.containers[-1], label_type=\"center\",  rotation=45)\n",
    "\n",
    "plt.xticks(rotation=75)\n",
    "plt.show()"
   ]
  },
  {
   "cell_type": "code",
   "execution_count": null,
   "id": "4d540460",
   "metadata": {
    "papermill": {
     "duration": 0.053604,
     "end_time": "2024-01-25T00:25:56.150907",
     "exception": false,
     "start_time": "2024-01-25T00:25:56.097303",
     "status": "completed"
    },
    "tags": []
   },
   "outputs": [],
   "source": [
    "games.head()"
   ]
  },
  {
   "cell_type": "code",
   "execution_count": null,
   "id": "3ca17a9e",
   "metadata": {
    "papermill": {
     "duration": 0.040177,
     "end_time": "2024-01-25T00:25:56.217083",
     "exception": false,
     "start_time": "2024-01-25T00:25:56.176906",
     "status": "completed"
    },
    "tags": []
   },
   "outputs": [],
   "source": [
    "games.groupby(\"year\")[\"total_points\"].mean()"
   ]
  },
  {
   "cell_type": "code",
   "execution_count": null,
   "id": "2e9d2a5a",
   "metadata": {
    "papermill": {
     "duration": 1.319705,
     "end_time": "2024-01-25T00:25:57.563250",
     "exception": false,
     "start_time": "2024-01-25T00:25:56.243545",
     "status": "completed"
    },
    "tags": []
   },
   "outputs": [],
   "source": [
    "plt.figure(figsize=(20,6))\n",
    "\n",
    "ax= sns.lineplot(data=games, x=\"year\", y=\"total_points\")\n",
    "\n",
    "def format_xlabels(value, pos):\n",
    "    return str(int(round(value)))\n",
    "\n",
    "ax.xaxis.set_major_formatter(plt.FuncFormatter(format_xlabels))\n",
    "\n",
    "plt.show()"
   ]
  },
  {
   "cell_type": "code",
   "execution_count": null,
   "id": "831a9454",
   "metadata": {
    "papermill": {
     "duration": 0.455861,
     "end_time": "2024-01-25T00:25:58.046598",
     "exception": false,
     "start_time": "2024-01-25T00:25:57.590737",
     "status": "completed"
    },
    "scrolled": true,
    "tags": []
   },
   "outputs": [],
   "source": [
    "x = home_wins[[\"nickname_home\", \"nickname_away\"]].value_counts()\n",
    "\n",
    "ax= x[:10].plot(kind=\"bar\", figsize=[10,5])\n",
    "ax.set_title(\"Casa vs Visita\")\n",
    "ax.set_xlabel(\"Partidos\")\n",
    "ax.set_ylabel(\"Cantidad\")\n",
    "ax.set_xticklabels(x.index[:10], rotation=90)\n",
    "\n",
    "for p in ax.patches:\n",
    "    ax.annotate(f'{p.get_height()}', (p.get_x() + p.get_width()/2, p.get_height()), ha='center', va='bottom')\n",
    "    \n",
    "plt.show()"
   ]
  },
  {
   "cell_type": "code",
   "execution_count": null,
   "id": "1e7a4f4e",
   "metadata": {
    "papermill": {
     "duration": 0.415528,
     "end_time": "2024-01-25T00:25:58.489502",
     "exception": false,
     "start_time": "2024-01-25T00:25:58.073974",
     "status": "completed"
    },
    "scrolled": true,
    "tags": []
   },
   "outputs": [],
   "source": [
    "x = away_wins[['nickname_home', 'nickname_away']].value_counts()\n",
    "\n",
    "ax = x[:10].plot(kind=\"bar\", figsize=[10, 5])\n",
    "ax.set_title('Casa vs visita')\n",
    "ax.set_xlabel('Partidos')\n",
    "ax.set_ylabel('cantidad')\n",
    "ax.set_xticklabels(x.index[:10], rotation = 90)\n",
    "\n",
    "for p in ax.patches:\n",
    "    ax.annotate(f'{p.get_height()}', (p.get_x() + p.get_width()/2, p.get_height()), ha='center', va='bottom')\n",
    "\n",
    "plt.show()"
   ]
  },
  {
   "cell_type": "code",
   "execution_count": null,
   "id": "33958cd4",
   "metadata": {
    "papermill": {
     "duration": 3.664017,
     "end_time": "2024-01-25T00:26:02.183006",
     "exception": false,
     "start_time": "2024-01-25T00:25:58.518989",
     "status": "completed"
    },
    "scrolled": true,
    "tags": []
   },
   "outputs": [],
   "source": [
    "game_details = pd.read_csv(\"./kaggle/input/nba-games/games_details.csv\")\n",
    "game_details.head()"
   ]
  },
  {
   "cell_type": "code",
   "execution_count": null,
   "id": "a2bf72f2",
   "metadata": {
    "papermill": {
     "duration": 0.442704,
     "end_time": "2024-01-25T00:26:02.654700",
     "exception": false,
     "start_time": "2024-01-25T00:26:02.211996",
     "status": "completed"
    },
    "tags": []
   },
   "outputs": [],
   "source": [
    "game_details.info()"
   ]
  },
  {
   "cell_type": "code",
   "execution_count": null,
   "id": "45184745",
   "metadata": {
    "papermill": {
     "duration": 0.056984,
     "end_time": "2024-01-25T00:26:02.741177",
     "exception": false,
     "start_time": "2024-01-25T00:26:02.684193",
     "status": "completed"
    },
    "scrolled": true,
    "tags": []
   },
   "outputs": [],
   "source": [
    "game_details = game_details[[\"GAME_ID\", \"PLAYER_NAME\", \"PTS\"]]\n",
    "game_details"
   ]
  },
  {
   "cell_type": "code",
   "execution_count": null,
   "id": "b8bf4566",
   "metadata": {
    "papermill": {
     "duration": 0.059981,
     "end_time": "2024-01-25T00:26:02.830714",
     "exception": false,
     "start_time": "2024-01-25T00:26:02.770733",
     "status": "completed"
    },
    "tags": []
   },
   "outputs": [],
   "source": [
    "games.info()"
   ]
  },
  {
   "cell_type": "code",
   "execution_count": null,
   "id": "99088125",
   "metadata": {
    "papermill": {
     "duration": 0.289184,
     "end_time": "2024-01-25T00:26:03.149281",
     "exception": false,
     "start_time": "2024-01-25T00:26:02.860097",
     "status": "completed"
    },
    "scrolled": true,
    "tags": []
   },
   "outputs": [],
   "source": [
    "game_complete = pd.merge(game_details, games, left_on=\"GAME_ID\", right_on=\"game_id\", how=\"inner\")\n",
    "game_complete.head()"
   ]
  },
  {
   "cell_type": "code",
   "execution_count": null,
   "id": "83fc19d5",
   "metadata": {
    "papermill": {
     "duration": 0.154239,
     "end_time": "2024-01-25T00:26:03.333914",
     "exception": false,
     "start_time": "2024-01-25T00:26:03.179675",
     "status": "completed"
    },
    "tags": []
   },
   "outputs": [],
   "source": [
    "player_pts = game_complete.groupby([\"year\", \"PLAYER_NAME\"])[\"PTS\"].mean().reset_index().sort_values(\"year\")\n",
    "player_pts.head(10)"
   ]
  },
  {
   "cell_type": "code",
   "execution_count": null,
   "id": "a27067e4",
   "metadata": {
    "papermill": {
     "duration": 0.047329,
     "end_time": "2024-01-25T00:26:03.412330",
     "exception": false,
     "start_time": "2024-01-25T00:26:03.365001",
     "status": "completed"
    },
    "tags": []
   },
   "outputs": [],
   "source": [
    "player_pts[player_pts['year'] == 2022].sort_values(by='PTS', ascending=False).head(10)"
   ]
  }
 ],
 "metadata": {
  "kaggle": {
   "accelerator": "none",
   "dataSources": [
    {
     "datasetId": 458874,
     "sourceId": 4761991,
     "sourceType": "datasetVersion"
    }
   ],
   "dockerImageVersionId": 30635,
   "isGpuEnabled": false,
   "isInternetEnabled": true,
   "language": "python",
   "sourceType": "notebook"
  },
  "kernelspec": {
   "display_name": "Python 3 (ipykernel)",
   "language": "python",
   "name": "python3"
  },
  "language_info": {
   "codemirror_mode": {
    "name": "ipython",
    "version": 3
   },
   "file_extension": ".py",
   "mimetype": "text/x-python",
   "name": "python",
   "nbconvert_exporter": "python",
   "pygments_lexer": "ipython3",
   "version": "3.11.6"
  },
  "papermill": {
   "default_parameters": {},
   "duration": 18.252629,
   "end_time": "2024-01-25T00:26:04.063851",
   "environment_variables": {},
   "exception": null,
   "input_path": "__notebook__.ipynb",
   "output_path": "__notebook__.ipynb",
   "parameters": {},
   "start_time": "2024-01-25T00:25:45.811222",
   "version": "2.4.0"
  }
 },
 "nbformat": 4,
 "nbformat_minor": 5
}
